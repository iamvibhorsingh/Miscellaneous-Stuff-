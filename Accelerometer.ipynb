{
 "cells": [
  {
   "cell_type": "code",
   "execution_count": 39,
   "metadata": {
    "collapsed": true
   },
   "outputs": [],
   "source": [
    "import pandas as p\n",
    "from sklearn import tree\n",
    "import matplotlib.pyplot as plt\n",
    "from sklearn import ensemble"
   ]
  },
  {
   "cell_type": "code",
   "execution_count": 40,
   "metadata": {},
   "outputs": [
    {
     "name": "stderr",
     "output_type": "stream",
     "text": [
      "C:\\ProgramData\\Anaconda3\\lib\\site-packages\\IPython\\core\\interactiveshell.py:2698: DtypeWarning: Columns (11,14,19,22,25,70,73,86,87,89,90,94,97,100) have mixed types. Specify dtype option on import or set low_memory=False.\n",
      "  interactivity=interactivity, compiler=compiler, result=result)\n"
     ]
    }
   ],
   "source": [
    "d = p.read_csv(\"pml-training.csv\")"
   ]
  },
  {
   "cell_type": "code",
   "execution_count": 41,
   "metadata": {
    "collapsed": true
   },
   "outputs": [],
   "source": [
    "d.drop(d.columns[11:35], axis=1,inplace = True)"
   ]
  },
  {
   "cell_type": "code",
   "execution_count": 42,
   "metadata": {},
   "outputs": [
    {
     "data": {
      "text/plain": [
       "135"
      ]
     },
     "execution_count": 42,
     "metadata": {},
     "output_type": "execute_result"
    }
   ],
   "source": [
    "d.columns.get_loc(\"classe\")"
   ]
  },
  {
   "cell_type": "code",
   "execution_count": 43,
   "metadata": {
    "collapsed": true
   },
   "outputs": [],
   "source": [
    "d.drop(d.columns[25:35], axis=1,inplace = True)"
   ]
  },
  {
   "cell_type": "code",
   "execution_count": 44,
   "metadata": {
    "collapsed": true
   },
   "outputs": [],
   "source": [
    "d.drop(d.columns[34:49], axis=1,inplace = True)"
   ]
  },
  {
   "cell_type": "code",
   "execution_count": 45,
   "metadata": {},
   "outputs": [
    {
     "data": {
      "text/plain": [
       "(19622, 111)"
      ]
     },
     "execution_count": 45,
     "metadata": {},
     "output_type": "execute_result"
    }
   ],
   "source": [
    "d.shape"
   ]
  },
  {
   "cell_type": "code",
   "execution_count": 46,
   "metadata": {
    "collapsed": true
   },
   "outputs": [],
   "source": [
    "d.drop(d.columns[37:63], axis=1,inplace = True)"
   ]
  },
  {
   "cell_type": "code",
   "execution_count": 47,
   "metadata": {},
   "outputs": [
    {
     "data": {
      "text/plain": [
       "(19622, 85)"
      ]
     },
     "execution_count": 47,
     "metadata": {},
     "output_type": "execute_result"
    }
   ],
   "source": [
    "d.shape"
   ]
  },
  {
   "cell_type": "code",
   "execution_count": 48,
   "metadata": {},
   "outputs": [
    {
     "data": {
      "text/plain": [
       "84"
      ]
     },
     "execution_count": 48,
     "metadata": {},
     "output_type": "execute_result"
    }
   ],
   "source": [
    "d.columns.get_loc(\"classe\")"
   ]
  },
  {
   "cell_type": "code",
   "execution_count": 49,
   "metadata": {
    "collapsed": true
   },
   "outputs": [],
   "source": [
    "d.drop(d.columns[49:75], axis=1,inplace = True)"
   ]
  },
  {
   "cell_type": "code",
   "execution_count": 50,
   "metadata": {},
   "outputs": [
    {
     "data": {
      "text/plain": [
       "58"
      ]
     },
     "execution_count": 50,
     "metadata": {},
     "output_type": "execute_result"
    }
   ],
   "source": [
    "d.columns.get_loc(\"classe\")"
   ]
  },
  {
   "cell_type": "code",
   "execution_count": 51,
   "metadata": {},
   "outputs": [
    {
     "data": {
      "text/plain": [
       "(19622, 59)"
      ]
     },
     "execution_count": 51,
     "metadata": {},
     "output_type": "execute_result"
    }
   ],
   "source": [
    "d.shape"
   ]
  },
  {
   "cell_type": "code",
   "execution_count": 52,
   "metadata": {
    "collapsed": true
   },
   "outputs": [],
   "source": [
    "d.drop(d.columns[11], axis=1,inplace = True)"
   ]
  },
  {
   "cell_type": "code",
   "execution_count": 243,
   "metadata": {},
   "outputs": [
    {
     "data": {
      "text/plain": [
       "Unnamed: 0              0\n",
       "user_name               0\n",
       "raw_timestamp_part_1    0\n",
       "raw_timestamp_part_2    0\n",
       "cvtd_timestamp          0\n",
       "new_window              0\n",
       "num_window              0\n",
       "roll_belt               0\n",
       "pitch_belt              0\n",
       "yaw_belt                0\n",
       "total_accel_belt        0\n",
       "gyros_belt_x            0\n",
       "gyros_belt_y            0\n",
       "gyros_belt_z            0\n",
       "accel_belt_x            0\n",
       "accel_belt_y            0\n",
       "accel_belt_z            0\n",
       "magnet_belt_x           0\n",
       "magnet_belt_y           0\n",
       "magnet_belt_z           0\n",
       "roll_arm                0\n",
       "pitch_arm               0\n",
       "yaw_arm                 0\n",
       "total_accel_arm         0\n",
       "gyros_arm_x             0\n",
       "gyros_arm_y             0\n",
       "gyros_arm_z             0\n",
       "accel_arm_x             0\n",
       "accel_arm_y             0\n",
       "accel_arm_z             0\n",
       "magnet_arm_x            0\n",
       "magnet_arm_y            0\n",
       "magnet_arm_z            0\n",
       "roll_dumbbell           0\n",
       "pitch_dumbbell          0\n",
       "yaw_dumbbell            0\n",
       "gyros_dumbbell_x        0\n",
       "gyros_dumbbell_y        0\n",
       "gyros_dumbbell_z        0\n",
       "accel_dumbbell_x        0\n",
       "accel_dumbbell_y        0\n",
       "accel_dumbbell_z        0\n",
       "magnet_dumbbell_x       0\n",
       "magnet_dumbbell_y       0\n",
       "magnet_dumbbell_z       0\n",
       "roll_forearm            0\n",
       "pitch_forearm           0\n",
       "yaw_forearm             0\n",
       "gyros_forearm_x         0\n",
       "gyros_forearm_y         0\n",
       "gyros_forearm_z         0\n",
       "accel_forearm_x         0\n",
       "accel_forearm_y         0\n",
       "accel_forearm_z         0\n",
       "magnet_forearm_x        0\n",
       "magnet_forearm_y        0\n",
       "magnet_forearm_z        0\n",
       "classe                  0\n",
       "dtype: int64"
      ]
     },
     "execution_count": 243,
     "metadata": {},
     "output_type": "execute_result"
    }
   ],
   "source": [
    "p.isnull(d).sum()"
   ]
  },
  {
   "cell_type": "code",
   "execution_count": 53,
   "metadata": {
    "collapsed": true
   },
   "outputs": [],
   "source": [
    "clf1 = tree.DecisionTreeClassifier() "
   ]
  },
  {
   "cell_type": "code",
   "execution_count": 54,
   "metadata": {
    "collapsed": true
   },
   "outputs": [],
   "source": [
    "from sklearn import cross_validation"
   ]
  },
  {
   "cell_type": "code",
   "execution_count": 55,
   "metadata": {
    "collapsed": true
   },
   "outputs": [],
   "source": [
    "def num(str) :\n",
    "    if(str==\"A\") :\n",
    "        return 1\n",
    "    elif(str==\"B\") :\n",
    "        return 2\n",
    "    elif(str==\"C\") :\n",
    "        return 3\n",
    "    elif(str==\"D\") :\n",
    "        return 4\n",
    "    else :\n",
    "        return 5"
   ]
  },
  {
   "cell_type": "code",
   "execution_count": 56,
   "metadata": {
    "collapsed": true
   },
   "outputs": [],
   "source": [
    "def num2(str) :\n",
    "    if(str==\"no\") :\n",
    "        return 1\n",
    "    elif(str==\"yes\") :\n",
    "        return 2"
   ]
  },
  {
   "cell_type": "code",
   "execution_count": 57,
   "metadata": {
    "collapsed": true
   },
   "outputs": [],
   "source": [
    "def num3(str) :\n",
    "    if(str==\"carlitos\") :\n",
    "        return 1\n",
    "    elif(str==\"pedro\") :\n",
    "        return 2\n",
    "    elif(str==\"adelmo\") :\n",
    "        return 3\n",
    "    elif(str==\"charles\") :\n",
    "        return 4\n",
    "    elif(str==\"eurico\") :\n",
    "        return 5\n",
    "    elif(str==\"jeremy\") :\n",
    "        return 6\n",
    "    else :\n",
    "        return 7"
   ]
  },
  {
   "cell_type": "code",
   "execution_count": 58,
   "metadata": {
    "collapsed": true
   },
   "outputs": [],
   "source": [
    "d['classe'] = d['classe'].apply(num)\n",
    "d['new_window'] = d['new_window'].apply(num2)\n",
    "d['user_name'] = d['user_name'].apply(num3)"
   ]
  },
  {
   "cell_type": "code",
   "execution_count": 59,
   "metadata": {
    "collapsed": true
   },
   "outputs": [],
   "source": [
    "r = d['classe']\n",
    "del d['classe']\n",
    "del d['cvtd_timestamp']"
   ]
  },
  {
   "cell_type": "code",
   "execution_count": 60,
   "metadata": {
    "collapsed": true
   },
   "outputs": [],
   "source": [
    "x_train,x_test,y_train,y_test = cross_validation.train_test_split(d,r,test_size = 0.05)"
   ]
  },
  {
   "cell_type": "code",
   "execution_count": 220,
   "metadata": {},
   "outputs": [
    {
     "data": {
      "text/plain": [
       "array(['carlitos', 'pedro', 'adelmo', 'charles', 'eurico', 'jeremy'], dtype=object)"
      ]
     },
     "execution_count": 220,
     "metadata": {},
     "output_type": "execute_result"
    }
   ],
   "source": [
    "d.user_name.unique()"
   ]
  },
  {
   "cell_type": "code",
   "execution_count": null,
   "metadata": {
    "collapsed": true
   },
   "outputs": [],
   "source": []
  },
  {
   "cell_type": "code",
   "execution_count": 251,
   "metadata": {},
   "outputs": [
    {
     "data": {
      "text/plain": [
       "Unnamed: 0                int64\n",
       "user_name                 int64\n",
       "raw_timestamp_part_1      int64\n",
       "raw_timestamp_part_2      int64\n",
       "new_window                int64\n",
       "num_window                int64\n",
       "roll_belt               float64\n",
       "pitch_belt              float64\n",
       "yaw_belt                float64\n",
       "total_accel_belt          int64\n",
       "gyros_belt_x            float64\n",
       "gyros_belt_y            float64\n",
       "gyros_belt_z            float64\n",
       "accel_belt_x              int64\n",
       "accel_belt_y              int64\n",
       "accel_belt_z              int64\n",
       "magnet_belt_x             int64\n",
       "magnet_belt_y             int64\n",
       "magnet_belt_z             int64\n",
       "roll_arm                float64\n",
       "pitch_arm               float64\n",
       "yaw_arm                 float64\n",
       "total_accel_arm           int64\n",
       "gyros_arm_x             float64\n",
       "gyros_arm_y             float64\n",
       "gyros_arm_z             float64\n",
       "accel_arm_x               int64\n",
       "accel_arm_y               int64\n",
       "accel_arm_z               int64\n",
       "magnet_arm_x              int64\n",
       "magnet_arm_y              int64\n",
       "magnet_arm_z              int64\n",
       "roll_dumbbell           float64\n",
       "pitch_dumbbell          float64\n",
       "yaw_dumbbell            float64\n",
       "gyros_dumbbell_x        float64\n",
       "gyros_dumbbell_y        float64\n",
       "gyros_dumbbell_z        float64\n",
       "accel_dumbbell_x          int64\n",
       "accel_dumbbell_y          int64\n",
       "accel_dumbbell_z          int64\n",
       "magnet_dumbbell_x         int64\n",
       "magnet_dumbbell_y         int64\n",
       "magnet_dumbbell_z       float64\n",
       "roll_forearm            float64\n",
       "pitch_forearm           float64\n",
       "yaw_forearm             float64\n",
       "gyros_forearm_x         float64\n",
       "gyros_forearm_y         float64\n",
       "gyros_forearm_z         float64\n",
       "accel_forearm_x           int64\n",
       "accel_forearm_y           int64\n",
       "accel_forearm_z           int64\n",
       "magnet_forearm_x          int64\n",
       "magnet_forearm_y        float64\n",
       "magnet_forearm_z        float64\n",
       "dtype: object"
      ]
     },
     "execution_count": 251,
     "metadata": {},
     "output_type": "execute_result"
    }
   ],
   "source": [
    "d.dtypes"
   ]
  },
  {
   "cell_type": "code",
   "execution_count": 61,
   "metadata": {
    "collapsed": true
   },
   "outputs": [],
   "source": [
    "import pydotplus"
   ]
  },
  {
   "cell_type": "code",
   "execution_count": 62,
   "metadata": {},
   "outputs": [
    {
     "data": {
      "text/plain": [
       "DecisionTreeClassifier(class_weight=None, criterion='gini', max_depth=None,\n",
       "            max_features=None, max_leaf_nodes=None,\n",
       "            min_impurity_split=1e-07, min_samples_leaf=1,\n",
       "            min_samples_split=2, min_weight_fraction_leaf=0.0,\n",
       "            presort=False, random_state=None, splitter='best')"
      ]
     },
     "execution_count": 62,
     "metadata": {},
     "output_type": "execute_result"
    }
   ],
   "source": [
    "clf1.fit(x_train,y_train)"
   ]
  },
  {
   "cell_type": "code",
   "execution_count": 280,
   "metadata": {
    "collapsed": true
   },
   "outputs": [],
   "source": [
    "y_pred = clf1.predict(x_test)"
   ]
  },
  {
   "cell_type": "code",
   "execution_count": 281,
   "metadata": {},
   "outputs": [
    {
     "data": {
      "text/plain": [
       "0.99898167006109984"
      ]
     },
     "execution_count": 281,
     "metadata": {},
     "output_type": "execute_result"
    }
   ],
   "source": [
    "score = clf1.score(x_test, y_test)\n",
    "score"
   ]
  },
  {
   "cell_type": "code",
   "execution_count": 260,
   "metadata": {},
   "outputs": [
    {
     "data": {
      "text/plain": [
       "True"
      ]
     },
     "execution_count": 260,
     "metadata": {},
     "output_type": "execute_result"
    }
   ],
   "source": [
    "dot_data = tree.export_graphviz(clf1,out_file=None, class_names = True, filled = True,special_characters = True)\n",
    "graph = (pydotplus.graph_from_dot_data(dot_data))\n",
    "graph.write_pdf(\"dataaa.pdf\")"
   ]
  },
  {
   "cell_type": "code",
   "execution_count": 272,
   "metadata": {
    "collapsed": true
   },
   "outputs": [],
   "source": [
    "clf = ensemble.RandomForestClassifier() \n",
    "clf.fit(x_train,y_train)\n",
    "y_pred = clf.predict(x_test)\n",
    "score = clf.score(x_test,y_test)"
   ]
  },
  {
   "cell_type": "code",
   "execution_count": 273,
   "metadata": {},
   "outputs": [
    {
     "data": {
      "text/plain": [
       "1.0"
      ]
     },
     "execution_count": 273,
     "metadata": {},
     "output_type": "execute_result"
    }
   ],
   "source": [
    "score"
   ]
  },
  {
   "cell_type": "code",
   "execution_count": 274,
   "metadata": {},
   "outputs": [
    {
     "data": {
      "text/plain": [
       "array([[276,   0,   0,   0,   0],\n",
       "       [  0, 188,   0,   0,   0],\n",
       "       [  0,   0, 179,   0,   0],\n",
       "       [  0,   0,   0, 155,   0],\n",
       "       [  0,   0,   0,   0, 184]])"
      ]
     },
     "execution_count": 274,
     "metadata": {},
     "output_type": "execute_result"
    }
   ],
   "source": [
    "from sklearn.metrics import confusion_matrix\n",
    "confusion_matrix(y_pred,y_test)"
   ]
  },
  {
   "cell_type": "code",
   "execution_count": 63,
   "metadata": {},
   "outputs": [
    {
     "data": {
      "image/png": "[encoded data removed]",
      "text/plain": [
       "<IPython.core.display.Image object>"
      ]
     },
     "execution_count": 63,
     "metadata": {},
     "output_type": "execute_result"
    }
   ],
   "source": [
    "from IPython.display import Image  \n",
    "dot_data = tree.export_graphviz(clf1,out_file=None, class_names = True, filled = True,special_characters = True)  \n",
    "graph = pydotplus.graph_from_dot_data(dot_data)  \n",
    "Image(graph.create_png())  "
   ]
  },
  {
   "cell_type": "code",
   "execution_count": null,
   "metadata": {
    "collapsed": true
   },
   "outputs": [],
   "source": []
  }
 ],
 "metadata": {
  "kernelspec": {
   "display_name": "Python 3",
   "language": "python",
   "name": "python3"
  },
  "language_info": {
   "codemirror_mode": {
    "name": "ipython",
    "version": 3
   },
   "file_extension": ".py",
   "mimetype": "text/x-python",
   "name": "python",
   "nbconvert_exporter": "python",
   "pygments_lexer": "ipython3",
   "version": "3.5.3"
  }
 },
 "nbformat": 4,
 "nbformat_minor": 2
}
